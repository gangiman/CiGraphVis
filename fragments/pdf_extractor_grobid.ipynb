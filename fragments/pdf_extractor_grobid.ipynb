{
 "cells": [
  {
   "cell_type": "code",
   "execution_count": 4,
   "metadata": {},
   "outputs": [],
   "source": [
    "import os\n",
    "import numpy as np\n",
    "from tqdm import tqdm\n",
    "import subprocess\n",
    "import pickle\n",
    "import subprocess\n",
    "import xml.etree.ElementTree as ET"
   ]
  },
  {
   "cell_type": "code",
   "execution_count": 27,
   "metadata": {
    "collapsed": true
   },
   "outputs": [],
   "source": [
    "# this method is likely a stub\n",
    "def extract_metadata(v, result, mode = None, print_tree = False, indent = 0):\n",
    "    tag = v.tag.split('}')[1]\n",
    "    if print_tree:\n",
    "        print('-'*indent + ' ' + tag, end = '')\n",
    "    if tag == 'title' or tag == 'date' or mode == 'abstract':\n",
    "        if mode is None:\n",
    "            mode = tag\n",
    "        if v.text is not None:\n",
    "            result[mode] = v.text\n",
    "            if print_tree:\n",
    "                print(': ' + v.text)\n",
    "    else:\n",
    "        if print_tree:\n",
    "            print('')\n",
    "    for c in v.getchildren():\n",
    "        m = tag if tag == 'abstract' else None            \n",
    "        extract_metadata(c, result, m, print_tree, indent + 1)"
   ]
  },
  {
   "cell_type": "code",
   "execution_count": 36,
   "metadata": {
    "collapsed": true
   },
   "outputs": [],
   "source": [
    "# this method is likely a stub\n",
    "def extract_references(v, result, mode = None):\n",
    "    tag = v.tag.split('}')[1]\n",
    "    if tag == 'title':\n",
    "        if v.text is not None:\n",
    "            result[-1][mode][tag] = v.text\n",
    "        else:\n",
    "            if tag not in result[-1][mode]:\n",
    "                result[-1][mode][tag] = '<None>'\n",
    "    if tag == 'date':\n",
    "        result[-1][mode][tag] = v.attrib['when']\n",
    "        \n",
    "    m = None\n",
    "    if tag == 'biblStruct':\n",
    "        result.append({})\n",
    "        m = tag\n",
    "    if tag == 'analytic' or tag == 'monogr':\n",
    "        result[-1][tag] = {}\n",
    "        m = tag\n",
    "    \n",
    "    if m is None:\n",
    "        m = mode\n",
    "    for c in v.getchildren():\n",
    "        extract_references(c, result, m)"
   ]
  },
  {
   "cell_type": "code",
   "execution_count": 37,
   "metadata": {
    "collapsed": true
   },
   "outputs": [],
   "source": [
    "# this method is likely a stub\n",
    "def process_refs(refs):\n",
    "    prefs = []\n",
    "    for ref in refs:\n",
    "        pref = {}\n",
    "        if 'analytic' in ref and 'monogr' in ref:    \n",
    "            pref['title'] = ref['analytic']['title']\n",
    "            if 'date' in ref['monogr']:\n",
    "                pref['date'] = ref['monogr']['date']\n",
    "        elif 'monogr' in ref:\n",
    "            pref = ref['monogr']\n",
    "        elif 'analytic' in ref:\n",
    "            pref = ref['analytic']\n",
    "        prefs.append(pref)\n",
    "    return prefs"
   ]
  },
  {
   "cell_type": "markdown",
   "metadata": {},
   "source": [
    "### requirement\n",
    "\n",
    "The following code requires GROBID to be launhed in a service-mode at localhost:8080, see http://grobid.readthedocs.io/en/latest/Grobid-service/"
   ]
  },
  {
   "cell_type": "markdown",
   "metadata": {},
   "source": [
    "### example for extracting metadata from pdf\n",
    "\n",
    "For the example the following path is used './papers/1009.5419v2.pdf'"
   ]
  },
  {
   "cell_type": "code",
   "execution_count": 38,
   "metadata": {},
   "outputs": [
    {
     "name": "stdout",
     "output_type": "stream",
     "text": [
      " TEI\n",
      "- teiHeader\n",
      "-- encodingDesc\n",
      "--- appInfo\n",
      "---- application\n",
      "----- ref\n",
      "-- fileDesc\n",
      "--- titleStmt\n",
      "---- title: Portfolio Allocation for Bayesian Optimization\n",
      "--- publicationStmt\n",
      "---- publisher\n",
      "---- availability\n",
      "----- licence\n",
      "---- date: March 8, 2011\n",
      "--- sourceDesc\n",
      "---- biblStruct\n",
      "----- analytic\n",
      "------ author\n",
      "------- persName\n",
      "-------- forename\n",
      "-------- surname\n",
      "------- affiliation\n",
      "-------- orgName\n",
      "-------- orgName\n",
      "-------- address\n",
      "--------- country\n",
      "------ author\n",
      "------- persName\n",
      "-------- forename\n",
      "-------- surname\n",
      "------- affiliation\n",
      "-------- orgName\n",
      "-------- orgName\n",
      "-------- address\n",
      "--------- country\n",
      "------ author\n",
      "------- persName\n",
      "-------- forename\n",
      "-------- surname\n",
      "------- affiliation\n",
      "-------- orgName\n",
      "-------- orgName\n",
      "-------- address\n",
      "--------- country\n",
      "------ title: Portfolio Allocation for Bayesian Optimization\n",
      "----- monogr\n",
      "------ imprint\n",
      "------- date: March 8, 2011\n",
      "-- profileDesc\n",
      "--- abstract\n",
      "---- p: Bayesian optimization with Gaussian processes has become an increasingly popular tool in the machine learning community. It is efficient and can be used when very little is known about the objective function, making it popular in expensive black-box optimization scenarios. It uses Bayesian methods to sample the objective efficiently using an acquisition function which incorporates the model's estimate of the objective and the uncertainty at any given point. However, there are several different parameter-ized acquisition functions in the literature, and it is often unclear which one to use. Instead of using a single acquisition function, we adopt a portfolio of acquisition functions governed by an online multi-armed bandit strategy. We propose several portfolio strategies, the best of which we call GP-Hedge, and show that this method outperforms the best individual acquisition function. We also provide a theoretical bound on the algorithm's performance.\n",
      "- text\n"
     ]
    }
   ],
   "source": [
    "# run a shell command from python\n",
    "# the result is a string with parsed document header into XML format\n",
    "output = subprocess.check_output(\"curl -v --form input=@./papers/1009.5419v2.pdf localhost:8080/processHeaderDocument\", \n",
    "                                 shell=True)\n",
    "# decode string into ElementTree representation of XML\n",
    "tree = ET.ElementTree(ET.fromstring(output))\n",
    "root = tree.getroot()\n",
    "\n",
    "# traverse the tree recursively and extract fields with title, date and abstarct \n",
    "metadata = {}\n",
    "extract_metadata(root, metadata, print_tree = True)"
   ]
  },
  {
   "cell_type": "code",
   "execution_count": 39,
   "metadata": {},
   "outputs": [
    {
     "data": {
      "text/plain": [
       "{'abstract': \"Bayesian optimization with Gaussian processes has become an increasingly popular tool in the machine learning community. It is efficient and can be used when very little is known about the objective function, making it popular in expensive black-box optimization scenarios. It uses Bayesian methods to sample the objective efficiently using an acquisition function which incorporates the model's estimate of the objective and the uncertainty at any given point. However, there are several different parameter-ized acquisition functions in the literature, and it is often unclear which one to use. Instead of using a single acquisition function, we adopt a portfolio of acquisition functions governed by an online multi-armed bandit strategy. We propose several portfolio strategies, the best of which we call GP-Hedge, and show that this method outperforms the best individual acquisition function. We also provide a theoretical bound on the algorithm's performance.\",\n",
       " 'date': 'March 8, 2011',\n",
       " 'title': 'Portfolio Allocation for Bayesian Optimization'}"
      ]
     },
     "execution_count": 39,
     "metadata": {},
     "output_type": "execute_result"
    }
   ],
   "source": [
    "metadata"
   ]
  },
  {
   "cell_type": "markdown",
   "metadata": {},
   "source": [
    "### example for extracting references from pdf\n",
    "\n",
    "Similar workflow to extracting headers"
   ]
  },
  {
   "cell_type": "code",
   "execution_count": 40,
   "metadata": {},
   "outputs": [],
   "source": [
    "output = subprocess.check_output(\"curl -v --form input=@./papers/1009.5419v2.pdf localhost:8080/processReferences\", \n",
    "                                 shell=True)\n",
    "tree = ET.ElementTree(ET.fromstring(output))\n",
    "root = tree.getroot()\n",
    "\n",
    "references = []\n",
    "extract_references(root, references)\n",
    "\n",
    "processed_references = process_refs(references)"
   ]
  },
  {
   "cell_type": "code",
   "execution_count": 41,
   "metadata": {},
   "outputs": [
    {
     "data": {
      "text/plain": [
       "[{'date': '2010', 'title': 'Best arm identification in multi-armed bandits'},\n",
       " {'date': '1998',\n",
       "  'title': 'Gambling in a rigged casino: the adversarial multi-armed bandit problem'},\n",
       " {'date': '2007',\n",
       "  'title': 'Gaussian Processes for Regression and Optimisation'},\n",
       " {'date': '2010',\n",
       "  'title': 'A Bayesian interactive optimization approach to procedural animation design'},\n",
       " {'date': '2010',\n",
       "  'title': 'A tutorial on Bayesian optimization of expensive cost functions with application to active user modeling and hierarchical reinforcement learning'},\n",
       " {'date': '2007',\n",
       "  'title': 'Active preference learning with discrete choice data'},\n",
       " {'date': '2009', 'title': 'Pure exploration in multi-armed bandits problems'},\n",
       " {'date': '2006', 'title': '<None>'},\n",
       " {'date': '2009', 'title': 'A parameter-free hedging algorithm'},\n",
       " {'date': '2005', 'title': 'Preference learning with Gaussian processes'},\n",
       " {'date': '1997',\n",
       "  'title': 'SDO: A statistical method for global optimization'},\n",
       " {'date': '1998', 'title': 'Model-based geostatistics'},\n",
       " {'date': '2001', 'title': 'Modification of the DIRECT Algorithm'},\n",
       " {'date': '2010',\n",
       "  'title': 'Regret bounds for Gaussian process bandit problems'},\n",
       " {'date': '2009',\n",
       "  'title': 'New inference strategies for solving Markov decision processes using reversible jump MCMC'},\n",
       " {'date': '2006-03',\n",
       "  'title': 'Global optimization of stochastic black-box systems via sequential Kriging meta-models'},\n",
       " {'date': '2009-08',\n",
       "  'title': 'Automating the Configuration of Algorithms for Solving Hard Computational Problems'},\n",
       " {'date': '2001',\n",
       "  'title': 'A taxonomy of global optimization methods based on response surfaces'},\n",
       " {'date': '1993',\n",
       "  'title': 'Lipschitzian optimization without the Lipschitz constant'},\n",
       " {'date': '1998',\n",
       "  'title': 'Efficient global optimization of expensive black-box functions'},\n",
       " {'date': '1964',\n",
       "  'title': 'A new method of locating the maximum of an arbitrary multipeak curve in the presence of noise'},\n",
       " {'date': '2008', 'title': 'Practical Bayesian Optimization'},\n",
       " {'date': '2007',\n",
       "  'title': 'Automatic gait optimization with Gaussian process regression'},\n",
       " {'date': '2009',\n",
       "  'title': 'A Bayesian exploration-exploitation approach for optimal online sensing and planning with a visually guided mobile robot'},\n",
       " {'date': '2007',\n",
       "  'title': 'Active policy learning for robot planning and exploration under uncertainty'},\n",
       " {'date': '1978',\n",
       "  'title': 'Toward Global Optimization chapter The Application of Bayesian Methods for Seeking the Extremum'},\n",
       " {'date': '2010',\n",
       "  'title': 'Bayesian Gaussian Processes for Sequential Prediction, Optimization and Quadrature'},\n",
       " {'date': '2003',\n",
       "  'title': 'Gaussian processes to speed up hybrid Monte Carlo for expensive Bayesian integrals'},\n",
       " {'date': '2006', 'title': 'Gaussian Processes for Machine Learning'},\n",
       " {'date': '2009',\n",
       "  'title': 'Approximate Bayesian inference for latent Gaussian models by using integrated nested Laplace approximations'},\n",
       " {'date': '2010',\n",
       "  'title': 'Gaussian process optimization in the bandit setting: No regret and experimental design'}]"
      ]
     },
     "execution_count": 41,
     "metadata": {},
     "output_type": "execute_result"
    }
   ],
   "source": [
    "processed_references"
   ]
  },
  {
   "cell_type": "markdown",
   "metadata": {},
   "source": [
    "# miner for files in the folder\n",
    "\n",
    "The following code processes the whole folder mining headers and references from each contained pdf"
   ]
  },
  {
   "cell_type": "code",
   "execution_count": 42,
   "metadata": {
    "collapsed": true
   },
   "outputs": [],
   "source": [
    "def get_paper_metadata(path):\n",
    "    output = subprocess.check_output(\"curl -v --form input=@\" + path + \" localhost:8080/processHeaderDocument\", \n",
    "                                 shell=True)\n",
    "    tree = ET.ElementTree(ET.fromstring(output))\n",
    "    root = tree.getroot()\n",
    "    metadata = {}\n",
    "    extract_metadata(root, metadata)\n",
    "    return metadata"
   ]
  },
  {
   "cell_type": "code",
   "execution_count": 43,
   "metadata": {
    "collapsed": true
   },
   "outputs": [],
   "source": [
    "def get_paper_references(path):\n",
    "    output = subprocess.check_output(\"curl -v --form input=@\" + path + \" localhost:8080/processReferences\", \n",
    "                                 shell=True)\n",
    "    tree = ET.ElementTree(ET.fromstring(output))\n",
    "    root = tree.getroot()\n",
    "    references = []\n",
    "    extract_references(root, references)\n",
    "    return process_refs(references)"
   ]
  },
  {
   "cell_type": "code",
   "execution_count": 44,
   "metadata": {},
   "outputs": [
    {
     "name": "stderr",
     "output_type": "stream",
     "text": [
      "100%|██████████| 31/31 [00:26<00:00,  1.22it/s]\n"
     ]
    }
   ],
   "source": [
    "papers_data = {}\n",
    "exceptions = []\n",
    "for folder_path in ['papers']:\n",
    "    for filename in tqdm(os.listdir(folder_path)):\n",
    "        try:\n",
    "            path = folder_path + '/' + filename\n",
    "            papers_data[path] = {'metadata':get_paper_metadata('\"./' + path + '\"'), \n",
    "                                'references':get_paper_references('\"./' + path + '\"')}\n",
    "        except KeyboardInterrupt:\n",
    "            raise\n",
    "        except Exception as e: # for some reason failes to process files with names containing commas ','\n",
    "            exceptions.append(folder_path + '/' + filename)\n",
    "            print(e, folder_path + '/' + filename)"
   ]
  },
  {
   "cell_type": "code",
   "execution_count": 47,
   "metadata": {},
   "outputs": [],
   "source": [
    "# store mined data\n",
    "pickle.dump(papers_data, open('papers_data.pkl', 'wb'))"
   ]
  }
 ],
 "metadata": {
  "kernelspec": {
   "display_name": "Python 3",
   "language": "python",
   "name": "python3"
  },
  "language_info": {
   "codemirror_mode": {
    "name": "ipython",
    "version": 3
   },
   "file_extension": ".py",
   "mimetype": "text/x-python",
   "name": "python",
   "nbconvert_exporter": "python",
   "pygments_lexer": "ipython3",
   "version": "3.4.3"
  }
 },
 "nbformat": 4,
 "nbformat_minor": 2
}
