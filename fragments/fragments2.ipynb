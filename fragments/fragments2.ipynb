{
 "cells": [
  {
   "cell_type": "code",
   "execution_count": 1,
   "metadata": {},
   "outputs": [],
   "source": [
    "%load_ext autoreload"
   ]
  },
  {
   "cell_type": "code",
   "execution_count": 2,
   "metadata": {},
   "outputs": [],
   "source": [
    "import os\n",
    "import numpy as np\n",
    "from tqdm import tqdm\n",
    "import pickle\n",
    "import subprocess\n",
    "import xml.etree.ElementTree as ET"
   ]
  },
  {
   "cell_type": "code",
   "execution_count": 3,
   "metadata": {},
   "outputs": [],
   "source": [
    "%autoreload\n",
    "from parsing_utilities import *"
   ]
  },
  {
   "cell_type": "code",
   "execution_count": 4,
   "metadata": {},
   "outputs": [],
   "source": [
    "input_folder = '/home/fmsnew/Documents/MFGPCpapers/papers_pdfs'\n",
    "output_folder = '/home/fmsnew/Documents/MFGPCpapers/papers_processed'"
   ]
  },
  {
   "cell_type": "code",
   "execution_count": 7,
   "metadata": {},
   "outputs": [],
   "source": [
    "parse_pdfs(input_folder, output_folder)"
   ]
  },
  {
   "cell_type": "code",
   "execution_count": 8,
   "metadata": {},
   "outputs": [],
   "source": [
    "papers_data = {}\n",
    "exceptions = []\n",
    "# not recursive\n",
    "for filename in os.listdir(input_folder):\n",
    "    if filename[-4:] == '.pdf':\n",
    "        try:\n",
    "            name = filename[:-4]\n",
    "            header_path = os.path.join(output_folder, name + '.tei.xml')\n",
    "            references_path = os.path.join(output_folder, name + '.references.tei.xml')\n",
    "            papers_data[name] = {'metadata':get_paper_metadata(header_path), \n",
    "                                'references':get_paper_references(references_path)}\n",
    "        except KeyboardInterrupt:\n",
    "            raise\n",
    "        except Exception as e: # for some reason failes to process files with names containing commas ','\n",
    "            exceptions.append(name)\n",
    "            print(e, name)"
   ]
  },
  {
   "cell_type": "code",
   "execution_count": 9,
   "metadata": {},
   "outputs": [],
   "source": [
    "pickle.dump(papers_data, open('../papers_data_mfgpc.pkl', 'wb'))"
   ]
  },
  {
   "cell_type": "code",
   "execution_count": 5,
   "metadata": {},
   "outputs": [],
   "source": [
    "from joblib import Parallel, delayed"
   ]
  },
  {
   "cell_type": "code",
   "execution_count": null,
   "metadata": {},
   "outputs": [
    {
     "name": "stderr",
     "output_type": "stream",
     "text": [
      "[Parallel(n_jobs=8)]: Done 106 tasks      | elapsed:    0.7s\n",
      "[Parallel(n_jobs=8)]: Done 1316 tasks      | elapsed:    3.5s\n",
      "[Parallel(n_jobs=8)]: Done 3346 tasks      | elapsed:    7.9s\n",
      "[Parallel(n_jobs=8)]: Done 6176 tasks      | elapsed:   14.3s\n"
     ]
    }
   ],
   "source": [
    "n = 10\n",
    "_ = Parallel(n_jobs=8, verbose=2)(delayed(np.sqrt)(np.random.rand(n, n)) for i in range(10000))"
   ]
  },
  {
   "cell_type": "code",
   "execution_count": 7,
   "metadata": {},
   "outputs": [
    {
     "data": {
      "text/plain": [
       "array([[0.63277312, 0.10675245, 0.44715546, 0.92566271, 0.77037945],\n",
       "       [0.38817485, 0.81593073, 0.64905691, 0.70311537, 0.1644966 ],\n",
       "       [0.58596323, 0.8827905 , 0.99689745, 0.57015255, 0.6901666 ],\n",
       "       [0.20012015, 0.6713173 , 0.98971789, 0.65918433, 0.41014242],\n",
       "       [0.79788066, 0.96432143, 0.97179256, 0.45194911, 0.2986172 ]])"
      ]
     },
     "execution_count": 7,
     "metadata": {},
     "output_type": "execute_result"
    }
   ],
   "source": [
    "np.sqrt(np.random.rand(5, 5))"
   ]
  },
  {
   "cell_type": "code",
   "execution_count": null,
   "metadata": {},
   "outputs": [],
   "source": []
  },
  {
   "cell_type": "code",
   "execution_count": null,
   "metadata": {},
   "outputs": [],
   "source": []
  },
  {
   "cell_type": "code",
   "execution_count": null,
   "metadata": {},
   "outputs": [],
   "source": []
  }
 ],
 "metadata": {
  "kernelspec": {
   "display_name": "Python 3",
   "language": "python",
   "name": "python3"
  },
  "language_info": {
   "codemirror_mode": {
    "name": "ipython",
    "version": 3
   },
   "file_extension": ".py",
   "mimetype": "text/x-python",
   "name": "python",
   "nbconvert_exporter": "python",
   "pygments_lexer": "ipython3",
   "version": "3.6.5"
  }
 },
 "nbformat": 4,
 "nbformat_minor": 2
}
